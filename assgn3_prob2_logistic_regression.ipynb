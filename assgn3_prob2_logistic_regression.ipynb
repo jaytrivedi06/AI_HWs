{
 "cells": [
  {
   "cell_type": "code",
   "execution_count": 2,
   "metadata": {},
   "outputs": [],
   "source": [
    "import pandas as pd\n",
    "import numpy as np\n",
    "import glob, os\n",
    "import scipy\n",
    "from scipy import optimize as op\n",
    "from sklearn.preprocessing import StandardScaler\n",
    "from sklearn.model_selection import train_test_split\n",
    "from sklearn.metrics import f1_score\n",
    "import matplotlib.pyplot as plt\n",
    "import seaborn as sns\n",
    "import warnings\n",
    "warnings.filterwarnings(\"ignore\")"
   ]
  },
  {
   "cell_type": "markdown",
   "metadata": {},
   "source": [
    "**Logistic Regression\n",
    "Question 2 part a**"
   ]
  },
  {
   "cell_type": "code",
   "execution_count": 8,
   "metadata": {},
   "outputs": [],
   "source": [
    "###### Sigmoid\n",
    "def sigmoid(z):\n",
    "    return 1.0 / (1 + np.exp(-z))\n",
    "\n",
    "##### Cost function with regularization\n",
    "def cf_reg(w, x, y, l):\n",
    "    m = len(y)\n",
    "    h = sigmoid(x.dot(w))\n",
    "    reg = (l/(2 * m)) * np.sum(w**2)\n",
    "\n",
    "    return (1 / m) * (-y.T.dot(np.log(h)) - (1 - y).T.dot(np.log(1 - h))) + reg\n",
    "\n",
    "##### gradient function with cost optimization\n",
    "def grad_reg(w, x, y, l ):\n",
    "    m, n = x.shape\n",
    "    w = w.reshape((n, 1))\n",
    "    y = y.reshape((m, 1))\n",
    "    h = sigmoid(x.dot(w))\n",
    "    reg = l* w /m\n",
    "\n",
    "    return ((1 / m) * x.T.dot(h - y)) + reg\n",
    "\n",
    "#### logistic regression function\n",
    "def logistic(w,x,y,l):\n",
    "    x = x.values\n",
    "    y = y.values\n",
    "    res = op.minimize(fun = cf_reg, x0 = w, args = (x, y,l),method = 'TNC', jac = grad_reg)\n",
    "    return res.x"
   ]
  },
  {
   "cell_type": "markdown",
   "metadata": {},
   "source": [
    " **Data preprocessing for the CSV file\n",
    " Question 2 part b**"
   ]
  },
  {
   "cell_type": "code",
   "execution_count": 3,
   "metadata": {
    "scrolled": true
   },
   "outputs": [
    {
     "name": "stdout",
     "output_type": "stream",
     "text": [
      "=======================================\n",
      "Column types according the chronic_kidney_disease.info are\n",
      "age      float64\n",
      "bp       float64\n",
      "sg        object\n",
      "al        object\n",
      "su        object\n",
      "rbc       object\n",
      "pc        object\n",
      "pcc       object\n",
      "ba        object\n",
      "bgr      float64\n",
      "bu       float64\n",
      "sc       float64\n",
      "sod      float64\n",
      "pot      float64\n",
      "hemo     float64\n",
      "pcv      float64\n",
      "wbcc     float64\n",
      "rbcc     float64\n",
      "htn       object\n",
      "dm        object\n",
      "cad       object\n",
      "appet     object\n",
      "pe        object\n",
      "ane       object\n",
      "class     object\n",
      "dtype: object\n"
     ]
    }
   ],
   "source": [
    "d_path = os.getcwd()\n",
    "f = pd.read_csv(d_path + '/chronic_kidney_disease_full.csv',sep =\",\")\n",
    "f = f.replace({'\\t': ''}, regex=True)\n",
    "# print(f.dtypes) --- use this to see datatypes of the columns\n",
    "###### \n",
    "# As we see from the dtypes wbcc and rbcc should be float64 but are instead object so \n",
    "#  next line converts them to numerical (according to the info file)\n",
    "# Same is the case with columns sg,Al and Su, which should be nominal but are read as float 64 here so we \n",
    "# change them too.\n",
    "#######\n",
    "f['wbcc'] = pd.to_numeric(f['wbcc'],errors='coerce')\n",
    "f['rbcc'] = pd.to_numeric(f['rbcc'],errors='coerce')\n",
    "f['sg'] = f['sg'].astype('object',errors='ignore')\n",
    "f['al'] = f['al'].astype('object',errors='ignore')\n",
    "f['su'] = f['su'].astype('object',errors='ignore')\n",
    "\n",
    "\n",
    "\n",
    "print('=======================================')\n",
    "print('Column types according the chronic_kidney_disease.info are')\n",
    "print(f.dtypes)"
   ]
  },
  {
   "cell_type": "code",
   "execution_count": 4,
   "metadata": {
    "scrolled": false
   },
   "outputs": [
    {
     "data": {
      "text/html": [
       "<div>\n",
       "<style scoped>\n",
       "    .dataframe tbody tr th:only-of-type {\n",
       "        vertical-align: middle;\n",
       "    }\n",
       "\n",
       "    .dataframe tbody tr th {\n",
       "        vertical-align: top;\n",
       "    }\n",
       "\n",
       "    .dataframe thead th {\n",
       "        text-align: right;\n",
       "    }\n",
       "</style>\n",
       "<table border=\"1\" class=\"dataframe\">\n",
       "  <thead>\n",
       "    <tr style=\"text-align: right;\">\n",
       "      <th></th>\n",
       "      <th>age</th>\n",
       "      <th>bp</th>\n",
       "      <th>sg</th>\n",
       "      <th>al</th>\n",
       "      <th>su</th>\n",
       "      <th>rbc</th>\n",
       "      <th>pc</th>\n",
       "      <th>pcc</th>\n",
       "      <th>ba</th>\n",
       "      <th>bgr</th>\n",
       "      <th>...</th>\n",
       "      <th>pcv</th>\n",
       "      <th>wbcc</th>\n",
       "      <th>rbcc</th>\n",
       "      <th>htn</th>\n",
       "      <th>dm</th>\n",
       "      <th>cad</th>\n",
       "      <th>appet</th>\n",
       "      <th>pe</th>\n",
       "      <th>ane</th>\n",
       "      <th>class</th>\n",
       "    </tr>\n",
       "  </thead>\n",
       "  <tbody>\n",
       "    <tr>\n",
       "      <th>0</th>\n",
       "      <td>48.0</td>\n",
       "      <td>80.0</td>\n",
       "      <td>3</td>\n",
       "      <td>1</td>\n",
       "      <td>0</td>\n",
       "      <td>-1</td>\n",
       "      <td>1</td>\n",
       "      <td>0</td>\n",
       "      <td>0</td>\n",
       "      <td>121.000000</td>\n",
       "      <td>...</td>\n",
       "      <td>44.0</td>\n",
       "      <td>7800.0</td>\n",
       "      <td>5.200000</td>\n",
       "      <td>1</td>\n",
       "      <td>2</td>\n",
       "      <td>0</td>\n",
       "      <td>0</td>\n",
       "      <td>0</td>\n",
       "      <td>0</td>\n",
       "      <td>0</td>\n",
       "    </tr>\n",
       "    <tr>\n",
       "      <th>1</th>\n",
       "      <td>7.0</td>\n",
       "      <td>50.0</td>\n",
       "      <td>3</td>\n",
       "      <td>4</td>\n",
       "      <td>0</td>\n",
       "      <td>-1</td>\n",
       "      <td>1</td>\n",
       "      <td>0</td>\n",
       "      <td>0</td>\n",
       "      <td>148.036517</td>\n",
       "      <td>...</td>\n",
       "      <td>38.0</td>\n",
       "      <td>6000.0</td>\n",
       "      <td>4.707435</td>\n",
       "      <td>0</td>\n",
       "      <td>1</td>\n",
       "      <td>0</td>\n",
       "      <td>0</td>\n",
       "      <td>0</td>\n",
       "      <td>0</td>\n",
       "      <td>0</td>\n",
       "    </tr>\n",
       "    <tr>\n",
       "      <th>2</th>\n",
       "      <td>62.0</td>\n",
       "      <td>80.0</td>\n",
       "      <td>1</td>\n",
       "      <td>2</td>\n",
       "      <td>3</td>\n",
       "      <td>1</td>\n",
       "      <td>1</td>\n",
       "      <td>0</td>\n",
       "      <td>0</td>\n",
       "      <td>423.000000</td>\n",
       "      <td>...</td>\n",
       "      <td>31.0</td>\n",
       "      <td>7500.0</td>\n",
       "      <td>4.707435</td>\n",
       "      <td>0</td>\n",
       "      <td>2</td>\n",
       "      <td>0</td>\n",
       "      <td>1</td>\n",
       "      <td>0</td>\n",
       "      <td>1</td>\n",
       "      <td>0</td>\n",
       "    </tr>\n",
       "    <tr>\n",
       "      <th>3</th>\n",
       "      <td>48.0</td>\n",
       "      <td>70.0</td>\n",
       "      <td>0</td>\n",
       "      <td>4</td>\n",
       "      <td>0</td>\n",
       "      <td>1</td>\n",
       "      <td>0</td>\n",
       "      <td>1</td>\n",
       "      <td>0</td>\n",
       "      <td>117.000000</td>\n",
       "      <td>...</td>\n",
       "      <td>32.0</td>\n",
       "      <td>6700.0</td>\n",
       "      <td>3.900000</td>\n",
       "      <td>1</td>\n",
       "      <td>1</td>\n",
       "      <td>0</td>\n",
       "      <td>1</td>\n",
       "      <td>1</td>\n",
       "      <td>1</td>\n",
       "      <td>0</td>\n",
       "    </tr>\n",
       "    <tr>\n",
       "      <th>4</th>\n",
       "      <td>51.0</td>\n",
       "      <td>80.0</td>\n",
       "      <td>1</td>\n",
       "      <td>2</td>\n",
       "      <td>0</td>\n",
       "      <td>1</td>\n",
       "      <td>1</td>\n",
       "      <td>0</td>\n",
       "      <td>0</td>\n",
       "      <td>106.000000</td>\n",
       "      <td>...</td>\n",
       "      <td>35.0</td>\n",
       "      <td>7300.0</td>\n",
       "      <td>4.600000</td>\n",
       "      <td>0</td>\n",
       "      <td>1</td>\n",
       "      <td>0</td>\n",
       "      <td>0</td>\n",
       "      <td>0</td>\n",
       "      <td>0</td>\n",
       "      <td>0</td>\n",
       "    </tr>\n",
       "  </tbody>\n",
       "</table>\n",
       "<p>5 rows × 25 columns</p>\n",
       "</div>"
      ],
      "text/plain": [
       "    age    bp  sg  al  su  rbc  pc  pcc  ba         bgr  ...     pcv    wbcc  \\\n",
       "0  48.0  80.0   3   1   0   -1   1    0   0  121.000000  ...    44.0  7800.0   \n",
       "1   7.0  50.0   3   4   0   -1   1    0   0  148.036517  ...    38.0  6000.0   \n",
       "2  62.0  80.0   1   2   3    1   1    0   0  423.000000  ...    31.0  7500.0   \n",
       "3  48.0  70.0   0   4   0    1   0    1   0  117.000000  ...    32.0  6700.0   \n",
       "4  51.0  80.0   1   2   0    1   1    0   0  106.000000  ...    35.0  7300.0   \n",
       "\n",
       "       rbcc  htn  dm  cad  appet  pe  ane  class  \n",
       "0  5.200000    1   2    0      0   0    0      0  \n",
       "1  4.707435    0   1    0      0   0    0      0  \n",
       "2  4.707435    0   2    0      1   0    1      0  \n",
       "3  3.900000    1   1    0      1   1    1      0  \n",
       "4  4.600000    0   1    0      0   0    0      0  \n",
       "\n",
       "[5 rows x 25 columns]"
      ]
     },
     "execution_count": 4,
     "metadata": {},
     "output_type": "execute_result"
    }
   ],
   "source": [
    "#### please run this cell only after the cell above is run or else this won't print value counts \n",
    "\n",
    "obj = f.select_dtypes(['object']).columns\n",
    "\n",
    "##### In next loop we convert all columns with dtype object to numerical codes\n",
    "for col in obj:\n",
    "    f[col] = f[col].astype('category').cat.codes\n",
    "#     print(col ,\"\\n\",f[col].value_counts())\n",
    "###### Now we replace all Nan in float columns with their mean\n",
    "f = f.fillna(f.mean())\n",
    "\n",
    "f.head()"
   ]
  },
  {
   "cell_type": "markdown",
   "metadata": {},
   "source": [
    "**Splitting data and getting graphs for training and testing data **"
   ]
  },
  {
   "cell_type": "code",
   "execution_count": 9,
   "metadata": {
    "scrolled": false
   },
   "outputs": [],
   "source": [
    "if 'intercept' not in f.columns:\n",
    "    f.insert(loc = 0 , column='intercept', value=np.ones((f.shape[0], 1)))\n",
    "\n",
    "train, test = train_test_split(f, test_size=0.2,stratify = f['class'])\n",
    "y = train['class']\n",
    "x = train.loc[:, train.columns != 'class']\n",
    "w = np.zeros(x.shape[1])\n",
    "\n",
    "p_train = []\n",
    "p_test = []\n",
    "i = - 2.0\n",
    "while i < 4.001:\n",
    "    model = logistic(w,x,y,l = i )\n",
    "    \n",
    "    train['pred_train'] = sigmoid(np.dot(train.iloc[:,:25].values,model.T))\n",
    "    train['pred_train'] = np.where(train['pred_train']>= 0.5, 1 , 0)\n",
    "    p_train.append([i,f1_score(train['class'], train['pred_train'])])\n",
    "#     print(i,f1_score(train['class'], train['pred_train']))\n",
    "\n",
    "    test['pred_test'] = sigmoid(np.dot(test.iloc[:,:25].values,model.T))\n",
    "    test['pred_test'] = np.where(test['pred_test']>= 0.5, 1 , 0)\n",
    "    p_test.append([i,f1_score(test['class'], test['pred_test'])])\n",
    "#     print(i,f1_score(test['class'], test['pred_test']))\n",
    "    i += 0.2\n",
    "#     print('========================================')\n",
    "\n",
    "l_train = pd.DataFrame(p_train,columns = ['Lambda','F1_score'])\n",
    "l_test = pd.DataFrame(p_test,columns = ['Lambda','F1_score'])"
   ]
  },
  {
   "cell_type": "code",
   "execution_count": 10,
   "metadata": {
    "scrolled": true
   },
   "outputs": [
    {
     "data": {
      "image/png": "[encoded data removed]",
      "text/plain": [
       "<Figure size 360x360 with 1 Axes>"
      ]
     },
     "metadata": {},
     "output_type": "display_data"
    }
   ],
   "source": [
    "sns.pairplot(x_vars = 'Lambda' , y_vars = 'F1_score', data = l_train ,size = 5)\n",
    "plt.title('Lambda vs f1_score for training data')\n",
    "plt.show()"
   ]
  },
  {
   "cell_type": "code",
   "execution_count": 11,
   "metadata": {
    "scrolled": true
   },
   "outputs": [
    {
     "data": {
      "image/png": "[encoded data removed]",
      "text/plain": [
       "<Figure size 360x360 with 1 Axes>"
      ]
     },
     "metadata": {},
     "output_type": "display_data"
    }
   ],
   "source": [
    "sns.pairplot(x_vars = 'Lambda' , y_vars = 'F1_score', data = l_test ,size = 5)\n",
    "plt.title('Lambda vs f1_score for testing data')\n",
    "plt.show()"
   ]
  },
  {
   "cell_type": "markdown",
   "metadata": {},
   "source": [
    "**Question 2 part c Normalizing data **"
   ]
  },
  {
   "cell_type": "code",
   "execution_count": 8,
   "metadata": {},
   "outputs": [],
   "source": [
    "scaler = StandardScaler()\n",
    "if 'intercept' in f.columns:\n",
    "    f = f.drop(columns = ['intercept'])\n",
    "f_n = pd.DataFrame(scaler.fit_transform(f.loc[:, f.columns != 'class']))\n",
    "f_n['class'] = f['class']\n"
   ]
  },
  {
   "cell_type": "code",
   "execution_count": 9,
   "metadata": {},
   "outputs": [],
   "source": [
    "if 'intercept' not in f_n.columns:\n",
    "    f_n.insert(loc = 0 , column='intercept', value=np.ones((f_n.shape[0], 1)))\n",
    "\n",
    "train_n, test_n = train_test_split(f_n, test_size=0.2,stratify = f_n['class'])\n",
    "y = train_n['class']\n",
    "x = train_n.loc[:, train_n.columns != 'class']\n",
    "w = np.zeros(x.shape[1])\n",
    "\n",
    "p_train_n = []\n",
    "p_test_n = []\n",
    "i = - 2.0\n",
    "while i < 4.001:\n",
    "    model_n = logistic(w,x,y,l = i )\n",
    "    \n",
    "    train_n['pred_train_n'] = sigmoid(np.dot(train_n.iloc[:,:25].values,model_n.T))\n",
    "    train_n['pred_train_n'] = np.where(train_n['pred_train_n']>= 0.5, 1 , 0)\n",
    "    p_train_n.append([i,f1_score(train_n['class'], train_n['pred_train_n'])])\n",
    "#     print(i,f1_score(train_n['class'], train_n['pred_train_n']))\n",
    "\n",
    "    test_n['pred_test_n'] = sigmoid(np.dot(test_n.iloc[:,:25].values,model.T))\n",
    "    test_n['pred_test_n'] = np.where(test_n['pred_test_n']>= 0.5, 1 , 0)\n",
    "    p_test_n.append([i,f1_score(test_n['class'], test_n['pred_test_n'])])\n",
    "#     print(i,f1_score(test_n['class'], test_n['pred_test_n']))\n",
    "    i += 0.2\n",
    "#     print('========================================')\n",
    "\n",
    "l_train_n = pd.DataFrame(p_train_n,columns = ['Lambda','F1_score'])\n",
    "l_test_n = pd.DataFrame(p_test_n,columns = ['Lambda','F1_score'])"
   ]
  },
  {
   "cell_type": "code",
   "execution_count": 15,
   "metadata": {},
   "outputs": [
    {
     "data": {
      "image/png": "[encoded data removed]",
      "text/plain": [
       "<Figure size 360x360 with 1 Axes>"
      ]
     },
     "metadata": {},
     "output_type": "display_data"
    }
   ],
   "source": [
    "sns.pairplot(x_vars = 'Lambda' , y_vars = 'F1_score', data = l_train ,size = 5)\n",
    "plt.title('Lambda vs f1_score for training data')\n",
    "plt.show()"
   ]
  },
  {
   "cell_type": "code",
   "execution_count": 10,
   "metadata": {
    "scrolled": true
   },
   "outputs": [
    {
     "data": {
      "image/png": "[encoded data removed]",
      "text/plain": [
       "<Figure size 360x360 with 1 Axes>"
      ]
     },
     "metadata": {},
     "output_type": "display_data"
    }
   ],
   "source": [
    "sns.pairplot(x_vars = 'Lambda' , y_vars = 'F1_score', data = l_test ,size = 5)\n",
    "plt.title('Lambda vs f1_score for testing data')\n",
    "plt.show()"
   ]
  }
 ],
 "metadata": {
  "celltoolbar": "Raw Cell Format",
  "kernelspec": {
   "display_name": "Python 3",
   "language": "python",
   "name": "python3"
  },
  "language_info": {
   "codemirror_mode": {
    "name": "ipython",
    "version": 3
   },
   "file_extension": ".py",
   "mimetype": "text/x-python",
   "name": "python",
   "nbconvert_exporter": "python",
   "pygments_lexer": "ipython3",
   "version": "3.6.5"
  }
 },
 "nbformat": 4,
 "nbformat_minor": 2
}
