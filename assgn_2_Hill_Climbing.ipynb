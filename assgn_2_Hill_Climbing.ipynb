{
 "cells": [
  {
   "cell_type": "code",
   "execution_count": 9,
   "metadata": {},
   "outputs": [],
   "source": [
    "import utils\n",
    "from collections import defaultdict, deque\n",
    "import math\n",
    "import random\n",
    "import sys\n",
    "import bisect\n",
    "from operator import itemgetter\n",
    "\n",
    "import numpy as np\n",
    "import pandas as pd\n",
    "infinity = float('inf')"
   ]
  },
  {
   "cell_type": "code",
   "execution_count": 15,
   "metadata": {},
   "outputs": [
    {
     "data": {
      "text/html": [
       "<div>\n",
       "<style scoped>\n",
       "    .dataframe tbody tr th:only-of-type {\n",
       "        vertical-align: middle;\n",
       "    }\n",
       "\n",
       "    .dataframe tbody tr th {\n",
       "        vertical-align: top;\n",
       "    }\n",
       "\n",
       "    .dataframe thead th {\n",
       "        text-align: right;\n",
       "    }\n",
       "</style>\n",
       "<table border=\"1\" class=\"dataframe\">\n",
       "  <thead>\n",
       "    <tr style=\"text-align: right;\">\n",
       "      <th></th>\n",
       "      <th>Mumbai</th>\n",
       "      <th>Ahemdabad</th>\n",
       "      <th>Delhi</th>\n",
       "      <th>Chennai</th>\n",
       "      <th>Banglore</th>\n",
       "    </tr>\n",
       "  </thead>\n",
       "  <tbody>\n",
       "    <tr>\n",
       "      <th>Mumbai</th>\n",
       "      <td>0</td>\n",
       "      <td>400</td>\n",
       "      <td>1200</td>\n",
       "      <td>1000</td>\n",
       "      <td>500</td>\n",
       "    </tr>\n",
       "    <tr>\n",
       "      <th>Ahemdabad</th>\n",
       "      <td>400</td>\n",
       "      <td>0</td>\n",
       "      <td>1000</td>\n",
       "      <td>1600</td>\n",
       "      <td>1200</td>\n",
       "    </tr>\n",
       "    <tr>\n",
       "      <th>Delhi</th>\n",
       "      <td>1200</td>\n",
       "      <td>1000</td>\n",
       "      <td>0</td>\n",
       "      <td>2000</td>\n",
       "      <td>1500</td>\n",
       "    </tr>\n",
       "    <tr>\n",
       "      <th>Chennai</th>\n",
       "      <td>1000</td>\n",
       "      <td>1600</td>\n",
       "      <td>2000</td>\n",
       "      <td>0</td>\n",
       "      <td>500</td>\n",
       "    </tr>\n",
       "    <tr>\n",
       "      <th>Banglore</th>\n",
       "      <td>500</td>\n",
       "      <td>1200</td>\n",
       "      <td>1500</td>\n",
       "      <td>500</td>\n",
       "      <td>0</td>\n",
       "    </tr>\n",
       "  </tbody>\n",
       "</table>\n",
       "</div>"
      ],
      "text/plain": [
       "           Mumbai  Ahemdabad  Delhi  Chennai  Banglore\n",
       "Mumbai          0        400   1200     1000       500\n",
       "Ahemdabad     400          0   1000     1600      1200\n",
       "Delhi        1200       1000      0     2000      1500\n",
       "Chennai      1000       1600   2000        0       500\n",
       "Banglore      500       1200   1500      500         0"
      ]
     },
     "execution_count": 15,
     "metadata": {},
     "output_type": "execute_result"
    }
   ],
   "source": [
    "cities = [\"Mumbai\",\"Ahemdabad\",\"Delhi\",\"Chennai\",\"Banglore\"]\n",
    "\n",
    "city_dist = [[0,400,1200,1000,500],\n",
    "             [400,0,1000,1600,1200],\n",
    "             [1200,1000,0,2000,1500],\n",
    "             [1000,1600,2000,0,500],\n",
    "             [500,1200,1500,500,0]]\n",
    "m = pd.DataFrame(city_dist, columns= cities, index= cities)\n",
    "\n",
    "m"
   ]
  },
  {
   "cell_type": "code",
   "execution_count": 160,
   "metadata": {},
   "outputs": [],
   "source": [
    "###### Hill Climbing ######\n",
    "def hill_climbing(x):\n",
    "    rew = 0\n",
    "    i = 0\n",
    "    path = []\n",
    "    n = x.shape[0]-1\n",
    "    s = x.sample(1)\n",
    "    path.append(\"\".join(s.index.tolist()))\n",
    "    a = s.max(axis = 1).iloc[0]\n",
    "    b = s.idxmax(axis=1).iloc[0]\n",
    "#     path.append(b)\n",
    "    rew += a\n",
    "    x = x.drop(s.index.tolist(),axis =1 )\n",
    "    x = x.drop(s.index.tolist(),axis =0 )\n",
    "\n",
    "    for i in range(n):\n",
    "        s = x[b]\n",
    "        path.append(b)\n",
    "        x = x.drop([b],axis =1 )\n",
    "        x = x.drop([b],axis =0 )\n",
    "        a = s.max()\n",
    "        b = s.idxmax()\n",
    "        rew += a\n",
    "        \n",
    "    return path,rew\n",
    "\n",
    "    \n",
    "           "
   ]
  },
  {
   "cell_type": "code",
   "execution_count": 170,
   "metadata": {},
   "outputs": [
    {
     "name": "stdout",
     "output_type": "stream",
     "text": [
      "['Mumbai', 'Delhi', 'Chennai', 'Ahemdabad', 'Banglore'] 6000\n",
      "['Chennai', 'Delhi', 'Banglore', 'Ahemdabad', 'Mumbai'] 5100\n",
      "['Delhi', 'Chennai', 'Ahemdabad', 'Banglore', 'Mumbai'] 5300\n",
      "['Delhi', 'Chennai', 'Ahemdabad', 'Banglore', 'Mumbai'] 5300\n",
      "['Delhi', 'Chennai', 'Ahemdabad', 'Banglore', 'Mumbai'] 5300\n",
      "['Banglore', 'Delhi', 'Chennai', 'Ahemdabad', 'Mumbai'] 5500\n",
      "['Banglore', 'Delhi', 'Chennai', 'Ahemdabad', 'Mumbai'] 5500\n",
      "['Banglore', 'Delhi', 'Chennai', 'Ahemdabad', 'Mumbai'] 5500\n",
      "['Ahemdabad', 'Chennai', 'Delhi', 'Banglore', 'Mumbai'] 5600\n",
      "['Chennai', 'Delhi', 'Banglore', 'Ahemdabad', 'Mumbai'] 5100\n",
      "['Chennai', 'Delhi', 'Banglore', 'Ahemdabad', 'Mumbai'] 5100\n",
      "\n",
      " So the path with least distance is :  ['Chennai', 'Delhi', 'Banglore', 'Ahemdabad', 'Mumbai']\n",
      " The Distance to ravel for this path is  5100\n"
     ]
    }
   ],
   "source": [
    "###### Find the best path ########\n",
    "\n",
    "\n",
    "i = 0\n",
    "y = 1000000 #### please put this number very high if your distances are large so that the total path is always less than this number\n",
    "route = []\n",
    "while i <= 2*len(cities) :\n",
    "    a , b  = hill_climbing(m)\n",
    "    print(a , b)\n",
    "    if b < y:\n",
    "        route = a\n",
    "        y = b\n",
    "    i = i+1\n",
    "    \n",
    "    \n",
    "print(\"\\n\",\"So the path with least distance is : \" ,route)\n",
    "print(\" The Distance to ravel for this path is \" , y)\n",
    "    "
   ]
  },
  {
   "cell_type": "code",
   "execution_count": null,
   "metadata": {},
   "outputs": [],
   "source": []
  }
 ],
 "metadata": {
  "kernelspec": {
   "display_name": "Python 3",
   "language": "python",
   "name": "python3"
  },
  "language_info": {
   "codemirror_mode": {
    "name": "ipython",
    "version": 3
   },
   "file_extension": ".py",
   "mimetype": "text/x-python",
   "name": "python",
   "nbconvert_exporter": "python",
   "pygments_lexer": "ipython3",
   "version": "3.6.5"
  }
 },
 "nbformat": 4,
 "nbformat_minor": 2
}
